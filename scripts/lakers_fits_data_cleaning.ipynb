{
 "cells": [
  {
   "cell_type": "markdown",
   "id": "55f33f98",
   "metadata": {},
   "source": [
    "## Project Data Cleaning"
   ]
  },
  {
   "cell_type": "markdown",
   "id": "247111ff",
   "metadata": {},
   "source": [
    "### Imports"
   ]
  },
  {
   "cell_type": "code",
   "execution_count": 1,
   "id": "9faec9f0",
   "metadata": {},
   "outputs": [],
   "source": [
    "import pandas as pd\n",
    "import numpy as np\n",
    "import matplotlib.pyplot as plt\n",
    "import seaborn as sns\n",
    "%matplotlib inline"
   ]
  },
  {
   "cell_type": "markdown",
   "id": "52b2c225",
   "metadata": {},
   "source": [
    "### Narrowing Down Datasets to Relevant Info"
   ]
  },
  {
   "cell_type": "code",
   "execution_count": 19,
   "id": "00974686",
   "metadata": {},
   "outputs": [],
   "source": [
    "lebron_lineups = pd.read_csv('../inputs/lebron_lineup_data_positions_2015_2024.csv')\n",
    "luka_lineups = pd.read_csv('../inputs/luka_lineup_data_positions_2015_2024.csv')\n",
    "playtypes_df = pd.read_csv('../outputs/playtype_data_2015_2024.csv')"
   ]
  },
  {
   "cell_type": "code",
   "execution_count": 3,
   "id": "7335ebca",
   "metadata": {},
   "outputs": [],
   "source": [
    "pd.set_option('display.max_columns', None)"
   ]
  },
  {
   "cell_type": "code",
   "execution_count": 20,
   "id": "7957ce57",
   "metadata": {},
   "outputs": [],
   "source": [
    "lebron_lineups = lebron_lineups.drop(['GROUP_SET', 'GROUP_ID',  'TEAM_ID', \n",
    "       'GP', 'W', 'L', 'W_PCT',  'E_OFF_RATING', \n",
    "       'E_DEF_RATING',  'E_NET_RATING',  'AST_PCT',\n",
    "       'AST_TO', 'AST_RATIO', 'OREB_PCT', 'DREB_PCT', 'REB_PCT', 'TM_TOV_PCT',\n",
    "       'EFG_PCT', 'TS_PCT', 'E_PACE', 'PACE', 'PACE_PER40', 'POSS', 'PIE',\n",
    "       'GP_RANK', 'W_RANK', 'L_RANK', 'W_PCT_RANK', 'MIN_RANK',\n",
    "       'OFF_RATING_RANK', 'DEF_RATING_RANK', 'NET_RATING_RANK', 'AST_PCT_RANK',\n",
    "       'AST_TO_RANK', 'AST_RATIO_RANK', 'OREB_PCT_RANK', 'DREB_PCT_RANK',\n",
    "       'REB_PCT_RANK', 'TM_TOV_PCT_RANK', 'EFG_PCT_RANK', 'TS_PCT_RANK',\n",
    "       'PACE_RANK', 'PIE_RANK',  'Player1', 'Player2', 'Player3',\n",
    "       'Player4', 'Player5'], axis = 1 )\n",
    "\n",
    "luka_lineups = luka_lineups.drop(['GROUP_SET', 'GROUP_ID',  'TEAM_ID', \n",
    "       'GP', 'W', 'L', 'W_PCT',  'E_OFF_RATING', \n",
    "       'E_DEF_RATING',  'E_NET_RATING',  'AST_PCT',\n",
    "       'AST_TO', 'AST_RATIO', 'OREB_PCT', 'DREB_PCT', 'REB_PCT', 'TM_TOV_PCT',\n",
    "       'EFG_PCT', 'TS_PCT', 'E_PACE', 'PACE', 'PACE_PER40', 'POSS', 'PIE',\n",
    "       'GP_RANK', 'W_RANK', 'L_RANK', 'W_PCT_RANK', 'MIN_RANK',\n",
    "       'OFF_RATING_RANK', 'DEF_RATING_RANK', 'NET_RATING_RANK', 'AST_PCT_RANK',\n",
    "       'AST_TO_RANK', 'AST_RATIO_RANK', 'OREB_PCT_RANK', 'DREB_PCT_RANK',\n",
    "       'REB_PCT_RANK', 'TM_TOV_PCT_RANK', 'EFG_PCT_RANK', 'TS_PCT_RANK',\n",
    "       'PACE_RANK', 'PIE_RANK',  'Player1', 'Player2', 'Player3',\n",
    "       'Player4', 'Player5'], axis = 1 )"
   ]
  },
  {
   "cell_type": "code",
   "execution_count": 5,
   "id": "2cf96abb",
   "metadata": {},
   "outputs": [
    {
     "data": {
      "text/html": [
       "<div>\n",
       "<style scoped>\n",
       "    .dataframe tbody tr th:only-of-type {\n",
       "        vertical-align: middle;\n",
       "    }\n",
       "\n",
       "    .dataframe tbody tr th {\n",
       "        vertical-align: top;\n",
       "    }\n",
       "\n",
       "    .dataframe thead th {\n",
       "        text-align: right;\n",
       "    }\n",
       "</style>\n",
       "<table border=\"1\" class=\"dataframe\">\n",
       "  <thead>\n",
       "    <tr style=\"text-align: right;\">\n",
       "      <th></th>\n",
       "      <th>GROUP_NAME</th>\n",
       "      <th>TEAM_ABBREVIATION</th>\n",
       "      <th>MIN</th>\n",
       "      <th>OFF_RATING</th>\n",
       "      <th>DEF_RATING</th>\n",
       "      <th>NET_RATING</th>\n",
       "      <th>SeasonYear</th>\n",
       "      <th>PG</th>\n",
       "      <th>SG</th>\n",
       "      <th>SF</th>\n",
       "      <th>PF</th>\n",
       "      <th>C</th>\n",
       "    </tr>\n",
       "  </thead>\n",
       "  <tbody>\n",
       "    <tr>\n",
       "      <th>0</th>\n",
       "      <td>L. James - J. Smith - K. Love - K. Irving - T....</td>\n",
       "      <td>CLE</td>\n",
       "      <td>466</td>\n",
       "      <td>116.1</td>\n",
       "      <td>103.4</td>\n",
       "      <td>12.6</td>\n",
       "      <td>2015-16</td>\n",
       "      <td>K. Irving</td>\n",
       "      <td>J. Smith</td>\n",
       "      <td>L. James</td>\n",
       "      <td>K. Love</td>\n",
       "      <td>T. Thompson</td>\n",
       "    </tr>\n",
       "    <tr>\n",
       "      <th>1</th>\n",
       "      <td>L. James - J. Smith - K. Love - T. Mozgov - K....</td>\n",
       "      <td>CLE</td>\n",
       "      <td>251</td>\n",
       "      <td>99.4</td>\n",
       "      <td>108.1</td>\n",
       "      <td>-8.7</td>\n",
       "      <td>2015-16</td>\n",
       "      <td>K. Irving</td>\n",
       "      <td>J. Smith</td>\n",
       "      <td>L. James</td>\n",
       "      <td>K. Love</td>\n",
       "      <td>T. Mozgov</td>\n",
       "    </tr>\n",
       "  </tbody>\n",
       "</table>\n",
       "</div>"
      ],
      "text/plain": [
       "                                          GROUP_NAME TEAM_ABBREVIATION  MIN  \\\n",
       "0  L. James - J. Smith - K. Love - K. Irving - T....               CLE  466   \n",
       "1  L. James - J. Smith - K. Love - T. Mozgov - K....               CLE  251   \n",
       "\n",
       "   OFF_RATING  DEF_RATING  NET_RATING SeasonYear         PG        SG  \\\n",
       "0       116.1       103.4        12.6    2015-16  K. Irving  J. Smith   \n",
       "1        99.4       108.1        -8.7    2015-16  K. Irving  J. Smith   \n",
       "\n",
       "         SF       PF            C  \n",
       "0  L. James  K. Love  T. Thompson  \n",
       "1  L. James  K. Love    T. Mozgov  "
      ]
     },
     "execution_count": 5,
     "metadata": {},
     "output_type": "execute_result"
    }
   ],
   "source": [
    "lebron_lineups.head(2)"
   ]
  },
  {
   "cell_type": "code",
   "execution_count": 6,
   "id": "37090166",
   "metadata": {},
   "outputs": [
    {
     "data": {
      "text/plain": [
       "Index(['GROUP_NAME', 'TEAM_ABBREVIATION', 'MIN', 'OFF_RATING', 'DEF_RATING',\n",
       "       'NET_RATING', 'SeasonYear', 'PG', 'SG', 'SF', 'PF', 'C'],\n",
       "      dtype='object')"
      ]
     },
     "execution_count": 6,
     "metadata": {},
     "output_type": "execute_result"
    }
   ],
   "source": [
    "lebron_lineups.columns"
   ]
  },
  {
   "cell_type": "code",
   "execution_count": 7,
   "id": "e5720281",
   "metadata": {},
   "outputs": [
    {
     "name": "stdout",
     "output_type": "stream",
     "text": [
      "<class 'pandas.core.frame.DataFrame'>\n",
      "RangeIndex: 426 entries, 0 to 425\n",
      "Data columns (total 12 columns):\n",
      " #   Column             Non-Null Count  Dtype  \n",
      "---  ------             --------------  -----  \n",
      " 0   GROUP_NAME         426 non-null    object \n",
      " 1   TEAM_ABBREVIATION  426 non-null    object \n",
      " 2   MIN                426 non-null    int64  \n",
      " 3   OFF_RATING         426 non-null    float64\n",
      " 4   DEF_RATING         426 non-null    float64\n",
      " 5   NET_RATING         426 non-null    float64\n",
      " 6   SeasonYear         426 non-null    object \n",
      " 7   PG                 426 non-null    object \n",
      " 8   SG                 426 non-null    object \n",
      " 9   SF                 426 non-null    object \n",
      " 10  PF                 426 non-null    object \n",
      " 11  C                  426 non-null    object \n",
      "dtypes: float64(3), int64(1), object(8)\n",
      "memory usage: 40.1+ KB\n"
     ]
    }
   ],
   "source": [
    "lebron_lineups.info()"
   ]
  },
  {
   "cell_type": "code",
   "execution_count": 8,
   "id": "bc23d70a",
   "metadata": {},
   "outputs": [
    {
     "name": "stdout",
     "output_type": "stream",
     "text": [
      "<class 'pandas.core.frame.DataFrame'>\n",
      "RangeIndex: 282 entries, 0 to 281\n",
      "Data columns (total 12 columns):\n",
      " #   Column             Non-Null Count  Dtype  \n",
      "---  ------             --------------  -----  \n",
      " 0   GROUP_NAME         282 non-null    object \n",
      " 1   TEAM_ABBREVIATION  282 non-null    object \n",
      " 2   MIN                282 non-null    int64  \n",
      " 3   OFF_RATING         282 non-null    float64\n",
      " 4   DEF_RATING         282 non-null    float64\n",
      " 5   NET_RATING         282 non-null    float64\n",
      " 6   SeasonYear         282 non-null    object \n",
      " 7   PG                 282 non-null    object \n",
      " 8   SG                 282 non-null    object \n",
      " 9   SF                 282 non-null    object \n",
      " 10  PF                 282 non-null    object \n",
      " 11  C                  282 non-null    object \n",
      "dtypes: float64(3), int64(1), object(8)\n",
      "memory usage: 26.6+ KB\n"
     ]
    }
   ],
   "source": [
    "luka_lineups.info()"
   ]
  },
  {
   "cell_type": "code",
   "execution_count": 21,
   "id": "c6df1af8",
   "metadata": {},
   "outputs": [],
   "source": [
    "playtypes_df = playtypes_df.drop(['SEASON_ID', 'PLAYER_ID',  'TEAM_ID',\n",
    "        'TEAM_NAME', 'POSS', 'PTS', 'FGM', 'FGA', 'FGMX',  'GP', 'POSS_PCT', 'PPP', 'FG_PCT',\n",
    "       'FT_POSS_PCT', 'TOV_POSS_PCT', 'SF_POSS_PCT', 'PLUSONE_POSS_PCT',\n",
    "       'SCORE_POSS_PCT', 'EFG_PCT'], axis = 1)"
   ]
  },
  {
   "cell_type": "code",
   "execution_count": 11,
   "id": "919cf73d",
   "metadata": {
    "scrolled": true
   },
   "outputs": [
    {
     "data": {
      "text/html": [
       "<div>\n",
       "<style scoped>\n",
       "    .dataframe tbody tr th:only-of-type {\n",
       "        vertical-align: middle;\n",
       "    }\n",
       "\n",
       "    .dataframe tbody tr th {\n",
       "        vertical-align: top;\n",
       "    }\n",
       "\n",
       "    .dataframe thead th {\n",
       "        text-align: right;\n",
       "    }\n",
       "</style>\n",
       "<table border=\"1\" class=\"dataframe\">\n",
       "  <thead>\n",
       "    <tr style=\"text-align: right;\">\n",
       "      <th></th>\n",
       "      <th>SeasonYear</th>\n",
       "      <th>PLAYER_NAME</th>\n",
       "      <th>TEAM_ABBREVIATION</th>\n",
       "      <th>PLAY_TYPE</th>\n",
       "      <th>TYPE_GROUPING</th>\n",
       "      <th>PERCENTILE</th>\n",
       "      <th>Player_Abbrev</th>\n",
       "    </tr>\n",
       "  </thead>\n",
       "  <tbody>\n",
       "    <tr>\n",
       "      <th>0</th>\n",
       "      <td>2015-16</td>\n",
       "      <td>Reggie Jackson</td>\n",
       "      <td>DET</td>\n",
       "      <td>PRBallHandler</td>\n",
       "      <td>Offensive</td>\n",
       "      <td>0.772</td>\n",
       "      <td>R. Jackson</td>\n",
       "    </tr>\n",
       "    <tr>\n",
       "      <th>1</th>\n",
       "      <td>2015-16</td>\n",
       "      <td>Damian Lillard</td>\n",
       "      <td>POR</td>\n",
       "      <td>PRBallHandler</td>\n",
       "      <td>Offensive</td>\n",
       "      <td>0.848</td>\n",
       "      <td>D. Lillard</td>\n",
       "    </tr>\n",
       "  </tbody>\n",
       "</table>\n",
       "</div>"
      ],
      "text/plain": [
       "  SeasonYear     PLAYER_NAME TEAM_ABBREVIATION      PLAY_TYPE TYPE_GROUPING  \\\n",
       "0    2015-16  Reggie Jackson               DET  PRBallHandler     Offensive   \n",
       "1    2015-16  Damian Lillard               POR  PRBallHandler     Offensive   \n",
       "\n",
       "   PERCENTILE Player_Abbrev  \n",
       "0       0.772    R. Jackson  \n",
       "1       0.848    D. Lillard  "
      ]
     },
     "execution_count": 11,
     "metadata": {},
     "output_type": "execute_result"
    }
   ],
   "source": [
    "playtypes_df.head(2)"
   ]
  },
  {
   "cell_type": "code",
   "execution_count": 12,
   "id": "62ef299a",
   "metadata": {},
   "outputs": [
    {
     "data": {
      "text/plain": [
       "Index(['SeasonYear', 'PLAYER_NAME', 'TEAM_ABBREVIATION', 'PLAY_TYPE',\n",
       "       'TYPE_GROUPING', 'PERCENTILE', 'Player_Abbrev'],\n",
       "      dtype='object')"
      ]
     },
     "execution_count": 12,
     "metadata": {},
     "output_type": "execute_result"
    }
   ],
   "source": [
    "playtypes_df.columns"
   ]
  },
  {
   "cell_type": "code",
   "execution_count": 13,
   "id": "c68e8d9c",
   "metadata": {},
   "outputs": [
    {
     "data": {
      "text/plain": [
       "array(['PRBallHandler', 'PRRollMan', 'Postup', 'Spotup', 'Handoff', 'Cut',\n",
       "       'OffScreen', 'Misc'], dtype=object)"
      ]
     },
     "execution_count": 13,
     "metadata": {},
     "output_type": "execute_result"
    }
   ],
   "source": [
    "playtypes_df['PLAY_TYPE'].unique()"
   ]
  },
  {
   "cell_type": "markdown",
   "id": "c15cc4e1",
   "metadata": {},
   "source": [
    "### Reworking Playtype Percentiles Dataset to Be 1 Player Per Row"
   ]
  },
  {
   "cell_type": "code",
   "execution_count": 22,
   "id": "c6d58f15",
   "metadata": {},
   "outputs": [],
   "source": [
    "# Pivot the dataframe to get PLAY_TYPE and TYPE_GROUPING as columns\n",
    "pivot_df = playtypes_df.pivot_table(\n",
    "    index=['PLAYER_NAME', 'TEAM_ABBREVIATION', 'Player_Abbrev', 'SeasonYear'],\n",
    "    columns=['TYPE_GROUPING', 'PLAY_TYPE'],\n",
    "    values='PERCENTILE'\n",
    ")"
   ]
  },
  {
   "cell_type": "code",
   "execution_count": 23,
   "id": "e5222033",
   "metadata": {},
   "outputs": [],
   "source": [
    "# Flatten the column MultiIndex\n",
    "pivot_df.columns = [f\"{group}_{ptype}\" for group, ptype in pivot_df.columns]\n",
    "\n",
    "# Reset the index to turn index columns back into normal columns\n",
    "playtypes_pct_df = pivot_df.reset_index()"
   ]
  },
  {
   "cell_type": "code",
   "execution_count": 25,
   "id": "2614d186",
   "metadata": {},
   "outputs": [],
   "source": [
    "playtypes_pct_df = playtypes_pct_df.fillna(0)"
   ]
  },
  {
   "cell_type": "code",
   "execution_count": 27,
   "id": "a294c387",
   "metadata": {},
   "outputs": [
    {
     "name": "stderr",
     "output_type": "stream",
     "text": [
      "C:\\Users\\kevin\\AppData\\Local\\Temp\\ipykernel_19244\\1548733967.py:22: FutureWarning: The default value of numeric_only in DataFrameGroupBy.mean is deprecated. In a future version, numeric_only will default to False. Either specify numeric_only or select only columns which should be valid for the function.\n",
      "  playtypes_pct_df = playtypes_pct_df.groupby(['PLAYER_NAME', 'Player_Abbrev', 'SeasonYear'], as_index=False).mean()\n"
     ]
    }
   ],
   "source": [
    "# Group by PLAYER_NAME, Player_Abbrev, TEAM_ABBREVIATION, and SeasonYear to avoid duplicates\n",
    "playtypes_pct_df = playtypes_pct_df.groupby(\n",
    "    ['PLAYER_NAME', 'Player_Abbrev', 'TEAM_ABBREVIATION', 'SeasonYear'], as_index=False\n",
    ").mean()\n",
    "\n",
    "# Count the number of teams per player per season\n",
    "team_counts = playtypes_pct_df.groupby(['Player_Abbrev', 'SeasonYear'])['TEAM_ABBREVIATION'].nunique().reset_index()\n",
    "team_counts = team_counts.rename(columns={'TEAM_ABBREVIATION': 'TeamCount'})\n",
    "\n",
    "# Merge the team count back into playtypes_pct_df\n",
    "playtypes_pct_df = playtypes_pct_df.merge(team_counts, on=['Player_Abbrev', 'SeasonYear'], how='left')\n",
    "\n",
    "# Assign 'TOT' if a player played for more than one team that season\n",
    "def assign_team(row):\n",
    "    if row['TeamCount'] > 1:\n",
    "        return 'TOT'\n",
    "    return row['TEAM_ABBREVIATION']\n",
    "\n",
    "playtypes_pct_df['TEAM_ABBREVIATION'] = playtypes_pct_df.apply(assign_team, axis=1)\n",
    "\n",
    "# Aggregate again to get only one row per player per season\n",
    "playtypes_pct_df = playtypes_pct_df.groupby(['PLAYER_NAME', 'Player_Abbrev', 'SeasonYear'], as_index=False).mean()\n",
    "\n",
    "# Drop the helper column\n",
    "playtypes_pct_df = playtypes_pct_df.drop(columns=['TeamCount'])"
   ]
  },
  {
   "cell_type": "code",
   "execution_count": 30,
   "id": "80f9f417",
   "metadata": {},
   "outputs": [
    {
     "name": "stdout",
     "output_type": "stream",
     "text": [
      "151\n"
     ]
    }
   ],
   "source": [
    "print(playtypes_pct_df.duplicated(subset=['Player_Abbrev', 'SeasonYear']).sum())"
   ]
  },
  {
   "cell_type": "code",
   "execution_count": 31,
   "id": "1cb8eb54",
   "metadata": {},
   "outputs": [],
   "source": [
    "playtypes_pct_df = playtypes_pct_df.drop_duplicates(subset=['Player_Abbrev', 'SeasonYear'], keep='first')"
   ]
  },
  {
   "cell_type": "code",
   "execution_count": 32,
   "id": "e650d28b",
   "metadata": {},
   "outputs": [
    {
     "name": "stdout",
     "output_type": "stream",
     "text": [
      "0\n"
     ]
    }
   ],
   "source": [
    "print(playtypes_pct_df.duplicated(subset=['Player_Abbrev', 'SeasonYear']).sum())"
   ]
  },
  {
   "cell_type": "code",
   "execution_count": 33,
   "id": "d2f584ea",
   "metadata": {
    "scrolled": true
   },
   "outputs": [
    {
     "data": {
      "text/html": [
       "<div>\n",
       "<style scoped>\n",
       "    .dataframe tbody tr th:only-of-type {\n",
       "        vertical-align: middle;\n",
       "    }\n",
       "\n",
       "    .dataframe tbody tr th {\n",
       "        vertical-align: top;\n",
       "    }\n",
       "\n",
       "    .dataframe thead th {\n",
       "        text-align: right;\n",
       "    }\n",
       "</style>\n",
       "<table border=\"1\" class=\"dataframe\">\n",
       "  <thead>\n",
       "    <tr style=\"text-align: right;\">\n",
       "      <th></th>\n",
       "      <th>PLAYER_NAME</th>\n",
       "      <th>Player_Abbrev</th>\n",
       "      <th>SeasonYear</th>\n",
       "      <th>Defensive_Handoff</th>\n",
       "      <th>Defensive_OffScreen</th>\n",
       "      <th>Defensive_PRBallHandler</th>\n",
       "      <th>Defensive_PRRollMan</th>\n",
       "      <th>Defensive_Postup</th>\n",
       "      <th>Defensive_Spotup</th>\n",
       "      <th>Offensive_Cut</th>\n",
       "      <th>Offensive_Handoff</th>\n",
       "      <th>Offensive_Misc</th>\n",
       "      <th>Offensive_OffScreen</th>\n",
       "      <th>Offensive_PRBallHandler</th>\n",
       "      <th>Offensive_PRRollMan</th>\n",
       "      <th>Offensive_Postup</th>\n",
       "      <th>Offensive_Spotup</th>\n",
       "    </tr>\n",
       "  </thead>\n",
       "  <tbody>\n",
       "    <tr>\n",
       "      <th>0</th>\n",
       "      <td>A.J. Lawson</td>\n",
       "      <td>A. Lawson</td>\n",
       "      <td>2024-25</td>\n",
       "      <td>0.773</td>\n",
       "      <td>0.000</td>\n",
       "      <td>0.480</td>\n",
       "      <td>0.000</td>\n",
       "      <td>0.000</td>\n",
       "      <td>0.024</td>\n",
       "      <td>0.134</td>\n",
       "      <td>0.000</td>\n",
       "      <td>0.00</td>\n",
       "      <td>0.000</td>\n",
       "      <td>0.000</td>\n",
       "      <td>0.000</td>\n",
       "      <td>0.0</td>\n",
       "      <td>0.000</td>\n",
       "    </tr>\n",
       "    <tr>\n",
       "      <th>1</th>\n",
       "      <td>AJ Green</td>\n",
       "      <td>A. Green</td>\n",
       "      <td>2023-24</td>\n",
       "      <td>0.755</td>\n",
       "      <td>0.000</td>\n",
       "      <td>0.000</td>\n",
       "      <td>0.000</td>\n",
       "      <td>0.000</td>\n",
       "      <td>0.804</td>\n",
       "      <td>0.000</td>\n",
       "      <td>0.986</td>\n",
       "      <td>0.00</td>\n",
       "      <td>0.425</td>\n",
       "      <td>0.154</td>\n",
       "      <td>0.618</td>\n",
       "      <td>0.0</td>\n",
       "      <td>0.928</td>\n",
       "    </tr>\n",
       "    <tr>\n",
       "      <th>2</th>\n",
       "      <td>AJ Green</td>\n",
       "      <td>A. Green</td>\n",
       "      <td>2024-25</td>\n",
       "      <td>0.852</td>\n",
       "      <td>0.199</td>\n",
       "      <td>0.071</td>\n",
       "      <td>0.262</td>\n",
       "      <td>0.993</td>\n",
       "      <td>0.762</td>\n",
       "      <td>0.000</td>\n",
       "      <td>0.958</td>\n",
       "      <td>0.69</td>\n",
       "      <td>0.176</td>\n",
       "      <td>0.099</td>\n",
       "      <td>0.988</td>\n",
       "      <td>0.0</td>\n",
       "      <td>0.875</td>\n",
       "    </tr>\n",
       "    <tr>\n",
       "      <th>3</th>\n",
       "      <td>AJ Griffin</td>\n",
       "      <td>A. Griffin</td>\n",
       "      <td>2022-23</td>\n",
       "      <td>0.636</td>\n",
       "      <td>0.679</td>\n",
       "      <td>0.546</td>\n",
       "      <td>0.126</td>\n",
       "      <td>0.475</td>\n",
       "      <td>0.354</td>\n",
       "      <td>0.773</td>\n",
       "      <td>0.814</td>\n",
       "      <td>0.47</td>\n",
       "      <td>0.493</td>\n",
       "      <td>0.677</td>\n",
       "      <td>0.000</td>\n",
       "      <td>0.0</td>\n",
       "      <td>0.675</td>\n",
       "    </tr>\n",
       "    <tr>\n",
       "      <th>4</th>\n",
       "      <td>AJ Johnson</td>\n",
       "      <td>A. Johnson</td>\n",
       "      <td>2024-25</td>\n",
       "      <td>0.000</td>\n",
       "      <td>0.000</td>\n",
       "      <td>0.325</td>\n",
       "      <td>0.000</td>\n",
       "      <td>0.000</td>\n",
       "      <td>0.000</td>\n",
       "      <td>0.000</td>\n",
       "      <td>0.000</td>\n",
       "      <td>0.00</td>\n",
       "      <td>0.000</td>\n",
       "      <td>0.432</td>\n",
       "      <td>0.000</td>\n",
       "      <td>0.0</td>\n",
       "      <td>0.000</td>\n",
       "    </tr>\n",
       "  </tbody>\n",
       "</table>\n",
       "</div>"
      ],
      "text/plain": [
       "   PLAYER_NAME Player_Abbrev SeasonYear  Defensive_Handoff  \\\n",
       "0  A.J. Lawson     A. Lawson    2024-25              0.773   \n",
       "1     AJ Green      A. Green    2023-24              0.755   \n",
       "2     AJ Green      A. Green    2024-25              0.852   \n",
       "3   AJ Griffin    A. Griffin    2022-23              0.636   \n",
       "4   AJ Johnson    A. Johnson    2024-25              0.000   \n",
       "\n",
       "   Defensive_OffScreen  Defensive_PRBallHandler  Defensive_PRRollMan  \\\n",
       "0                0.000                    0.480                0.000   \n",
       "1                0.000                    0.000                0.000   \n",
       "2                0.199                    0.071                0.262   \n",
       "3                0.679                    0.546                0.126   \n",
       "4                0.000                    0.325                0.000   \n",
       "\n",
       "   Defensive_Postup  Defensive_Spotup  Offensive_Cut  Offensive_Handoff  \\\n",
       "0             0.000             0.024          0.134              0.000   \n",
       "1             0.000             0.804          0.000              0.986   \n",
       "2             0.993             0.762          0.000              0.958   \n",
       "3             0.475             0.354          0.773              0.814   \n",
       "4             0.000             0.000          0.000              0.000   \n",
       "\n",
       "   Offensive_Misc  Offensive_OffScreen  Offensive_PRBallHandler  \\\n",
       "0            0.00                0.000                    0.000   \n",
       "1            0.00                0.425                    0.154   \n",
       "2            0.69                0.176                    0.099   \n",
       "3            0.47                0.493                    0.677   \n",
       "4            0.00                0.000                    0.432   \n",
       "\n",
       "   Offensive_PRRollMan  Offensive_Postup  Offensive_Spotup  \n",
       "0                0.000               0.0             0.000  \n",
       "1                0.618               0.0             0.928  \n",
       "2                0.988               0.0             0.875  \n",
       "3                0.000               0.0             0.675  \n",
       "4                0.000               0.0             0.000  "
      ]
     },
     "execution_count": 33,
     "metadata": {},
     "output_type": "execute_result"
    }
   ],
   "source": [
    "playtypes_pct_df.head()"
   ]
  },
  {
   "cell_type": "code",
   "execution_count": 34,
   "id": "ac24a40e",
   "metadata": {},
   "outputs": [],
   "source": [
    "playtypes_pct_df.to_csv('../outputs/player_playtypes_percentiles_2015_2024.csv', index=False)"
   ]
  },
  {
   "cell_type": "code",
   "execution_count": null,
   "id": "517883f0",
   "metadata": {},
   "outputs": [],
   "source": [
    "playtypes_pct_df = pd.read_csv('../outputs/player_playtypes_percentiles_2015_2024.csv')"
   ]
  },
  {
   "cell_type": "markdown",
   "id": "ae5086b2",
   "metadata": {},
   "source": [
    "### Joining the Playtypes Percentiles to the LeBron and Luka Teammates"
   ]
  },
  {
   "cell_type": "code",
   "execution_count": 35,
   "id": "d7b6f679",
   "metadata": {},
   "outputs": [],
   "source": [
    "# Loop through each position\n",
    "positions = ['PG', 'SG', 'SF', 'PF', 'C']"
   ]
  },
  {
   "cell_type": "code",
   "execution_count": 37,
   "id": "8b6f8479",
   "metadata": {},
   "outputs": [],
   "source": [
    "# Start with the lebron_lineups df\n",
    "lebron_merged_df = lebron_lineups.copy()\n",
    "\n",
    "for pos in positions:\n",
    "    # Copy and rename playtypes_pct_df\n",
    "    temp_df = playtypes_pct_df.copy()\n",
    "    \n",
    "    # Rename all columns except PLAYER_NAME, Player_Abbrev, SeasonYear\n",
    "    temp_df = temp_df.rename(columns={\n",
    "        col: f\"{pos}_{col}\" for col in temp_df.columns if col not in ['PLAYER_NAME', 'Player_Abbrev', 'SeasonYear']\n",
    "    })\n",
    "\n",
    "    # Merge on Player_Abbrev and SeasonYear\n",
    "    lebron_merged_df = lebron_merged_df.merge(\n",
    "        temp_df,\n",
    "        how='left',\n",
    "        left_on=[pos, 'SeasonYear'],\n",
    "        right_on=['Player_Abbrev', 'SeasonYear']\n",
    "    )\n",
    "\n",
    "    # Drop the extra columns from the merge\n",
    "    lebron_merged_df = lebron_merged_df.drop(columns=['PLAYER_NAME', 'Player_Abbrev'])"
   ]
  },
  {
   "cell_type": "code",
   "execution_count": 38,
   "id": "498e7e47",
   "metadata": {},
   "outputs": [
    {
     "name": "stdout",
     "output_type": "stream",
     "text": [
      "<class 'pandas.core.frame.DataFrame'>\n",
      "Int64Index: 426 entries, 0 to 425\n",
      "Data columns (total 82 columns):\n",
      " #   Column                      Non-Null Count  Dtype  \n",
      "---  ------                      --------------  -----  \n",
      " 0   GROUP_NAME                  426 non-null    object \n",
      " 1   TEAM_ABBREVIATION           426 non-null    object \n",
      " 2   MIN                         426 non-null    int64  \n",
      " 3   OFF_RATING                  426 non-null    float64\n",
      " 4   DEF_RATING                  426 non-null    float64\n",
      " 5   NET_RATING                  426 non-null    float64\n",
      " 6   SeasonYear                  426 non-null    object \n",
      " 7   PG                          426 non-null    object \n",
      " 8   SG                          426 non-null    object \n",
      " 9   SF                          426 non-null    object \n",
      " 10  PF                          426 non-null    object \n",
      " 11  C                           426 non-null    object \n",
      " 12  PG_Defensive_Handoff        423 non-null    float64\n",
      " 13  PG_Defensive_OffScreen      423 non-null    float64\n",
      " 14  PG_Defensive_PRBallHandler  423 non-null    float64\n",
      " 15  PG_Defensive_PRRollMan      423 non-null    float64\n",
      " 16  PG_Defensive_Postup         423 non-null    float64\n",
      " 17  PG_Defensive_Spotup         423 non-null    float64\n",
      " 18  PG_Offensive_Cut            423 non-null    float64\n",
      " 19  PG_Offensive_Handoff        423 non-null    float64\n",
      " 20  PG_Offensive_Misc           423 non-null    float64\n",
      " 21  PG_Offensive_OffScreen      423 non-null    float64\n",
      " 22  PG_Offensive_PRBallHandler  423 non-null    float64\n",
      " 23  PG_Offensive_PRRollMan      423 non-null    float64\n",
      " 24  PG_Offensive_Postup         423 non-null    float64\n",
      " 25  PG_Offensive_Spotup         423 non-null    float64\n",
      " 26  SG_Defensive_Handoff        422 non-null    float64\n",
      " 27  SG_Defensive_OffScreen      422 non-null    float64\n",
      " 28  SG_Defensive_PRBallHandler  422 non-null    float64\n",
      " 29  SG_Defensive_PRRollMan      422 non-null    float64\n",
      " 30  SG_Defensive_Postup         422 non-null    float64\n",
      " 31  SG_Defensive_Spotup         422 non-null    float64\n",
      " 32  SG_Offensive_Cut            422 non-null    float64\n",
      " 33  SG_Offensive_Handoff        422 non-null    float64\n",
      " 34  SG_Offensive_Misc           422 non-null    float64\n",
      " 35  SG_Offensive_OffScreen      422 non-null    float64\n",
      " 36  SG_Offensive_PRBallHandler  422 non-null    float64\n",
      " 37  SG_Offensive_PRRollMan      422 non-null    float64\n",
      " 38  SG_Offensive_Postup         422 non-null    float64\n",
      " 39  SG_Offensive_Spotup         422 non-null    float64\n",
      " 40  SF_Defensive_Handoff        419 non-null    float64\n",
      " 41  SF_Defensive_OffScreen      419 non-null    float64\n",
      " 42  SF_Defensive_PRBallHandler  419 non-null    float64\n",
      " 43  SF_Defensive_PRRollMan      419 non-null    float64\n",
      " 44  SF_Defensive_Postup         419 non-null    float64\n",
      " 45  SF_Defensive_Spotup         419 non-null    float64\n",
      " 46  SF_Offensive_Cut            419 non-null    float64\n",
      " 47  SF_Offensive_Handoff        419 non-null    float64\n",
      " 48  SF_Offensive_Misc           419 non-null    float64\n",
      " 49  SF_Offensive_OffScreen      419 non-null    float64\n",
      " 50  SF_Offensive_PRBallHandler  419 non-null    float64\n",
      " 51  SF_Offensive_PRRollMan      419 non-null    float64\n",
      " 52  SF_Offensive_Postup         419 non-null    float64\n",
      " 53  SF_Offensive_Spotup         419 non-null    float64\n",
      " 54  PF_Defensive_Handoff        422 non-null    float64\n",
      " 55  PF_Defensive_OffScreen      422 non-null    float64\n",
      " 56  PF_Defensive_PRBallHandler  422 non-null    float64\n",
      " 57  PF_Defensive_PRRollMan      422 non-null    float64\n",
      " 58  PF_Defensive_Postup         422 non-null    float64\n",
      " 59  PF_Defensive_Spotup         422 non-null    float64\n",
      " 60  PF_Offensive_Cut            422 non-null    float64\n",
      " 61  PF_Offensive_Handoff        422 non-null    float64\n",
      " 62  PF_Offensive_Misc           422 non-null    float64\n",
      " 63  PF_Offensive_OffScreen      422 non-null    float64\n",
      " 64  PF_Offensive_PRBallHandler  422 non-null    float64\n",
      " 65  PF_Offensive_PRRollMan      422 non-null    float64\n",
      " 66  PF_Offensive_Postup         422 non-null    float64\n",
      " 67  PF_Offensive_Spotup         422 non-null    float64\n",
      " 68  C_Defensive_Handoff         422 non-null    float64\n",
      " 69  C_Defensive_OffScreen       422 non-null    float64\n",
      " 70  C_Defensive_PRBallHandler   422 non-null    float64\n",
      " 71  C_Defensive_PRRollMan       422 non-null    float64\n",
      " 72  C_Defensive_Postup          422 non-null    float64\n",
      " 73  C_Defensive_Spotup          422 non-null    float64\n",
      " 74  C_Offensive_Cut             422 non-null    float64\n",
      " 75  C_Offensive_Handoff         422 non-null    float64\n",
      " 76  C_Offensive_Misc            422 non-null    float64\n",
      " 77  C_Offensive_OffScreen       422 non-null    float64\n",
      " 78  C_Offensive_PRBallHandler   422 non-null    float64\n",
      " 79  C_Offensive_PRRollMan       422 non-null    float64\n",
      " 80  C_Offensive_Postup          422 non-null    float64\n",
      " 81  C_Offensive_Spotup          422 non-null    float64\n",
      "dtypes: float64(73), int64(1), object(8)\n",
      "memory usage: 276.2+ KB\n"
     ]
    }
   ],
   "source": [
    "lebron_merged_df.info()"
   ]
  },
  {
   "cell_type": "code",
   "execution_count": 39,
   "id": "9c542af4",
   "metadata": {},
   "outputs": [],
   "source": [
    "lebron_merged_df.to_csv('../outputs/lebron_teammate_playtypes_percentiles.csv', index=False)"
   ]
  },
  {
   "cell_type": "code",
   "execution_count": null,
   "id": "7edf7d5f",
   "metadata": {},
   "outputs": [],
   "source": [
    "lebron_merged_df = pd.read_csv('../outputs/lebron_teammate_playtypes_percentiles.csv')"
   ]
  },
  {
   "cell_type": "markdown",
   "id": "46b30cd3",
   "metadata": {},
   "source": [
    "### Same Process with Luka Teammates"
   ]
  },
  {
   "cell_type": "code",
   "execution_count": 40,
   "id": "eff7a5ba",
   "metadata": {},
   "outputs": [],
   "source": [
    "# Start with the luka_lineups df\n",
    "luka_merged_df = luka_lineups.copy()\n",
    "\n",
    "for pos in positions:\n",
    "    # Copy and rename playtypes_pct_df\n",
    "    temp_df = playtypes_pct_df.copy()\n",
    "    \n",
    "    # Rename all columns except PLAYER_NAME, Player_Abbrev, SeasonYear\n",
    "    temp_df = temp_df.rename(columns={\n",
    "        col: f\"{pos}_{col}\" for col in temp_df.columns if col not in ['PLAYER_NAME', 'Player_Abbrev', 'SeasonYear']\n",
    "    })\n",
    "\n",
    "    # Merge on Player_Abbrev and SeasonYear\n",
    "    luka_merged_df = luka_merged_df.merge(\n",
    "        temp_df,\n",
    "        how='left',\n",
    "        left_on=[pos, 'SeasonYear'],\n",
    "        right_on=['Player_Abbrev', 'SeasonYear']\n",
    "    )\n",
    "\n",
    "    # Drop the extra columns from the merge\n",
    "    luka_merged_df = luka_merged_df.drop(columns=['PLAYER_NAME', 'Player_Abbrev'])"
   ]
  },
  {
   "cell_type": "code",
   "execution_count": 42,
   "id": "5a3b3ca1",
   "metadata": {},
   "outputs": [],
   "source": [
    "luka_merged_df.to_csv('../outputs/luka_teammate_playtypes_percentiles.csv', index=False)"
   ]
  },
  {
   "cell_type": "code",
   "execution_count": null,
   "id": "3c365368",
   "metadata": {},
   "outputs": [],
   "source": [
    "luka_merged_df = pd.read_csv('../outputs/luka_teammate_playtypes_percentiles.csv')"
   ]
  },
  {
   "cell_type": "markdown",
   "id": "91430614",
   "metadata": {},
   "source": [
    "### Enacting Minutes Restrictions for the Lineups"
   ]
  },
  {
   "cell_type": "code",
   "execution_count": 43,
   "id": "0df3df57",
   "metadata": {},
   "outputs": [
    {
     "name": "stdout",
     "output_type": "stream",
     "text": [
      "MIN bin edges (quantiles):\n",
      "[ 11.  13.  14.  16.  19.  23.  26.  33.  43.  68. 466.]\n",
      "\n",
      "Counts per bin:\n",
      "(10.999, 13.0]    63\n",
      "(13.0, 14.0]      28\n",
      "(14.0, 16.0]      44\n",
      "(16.0, 19.0]      41\n",
      "(19.0, 23.0]      39\n",
      "(23.0, 26.0]      41\n",
      "(26.0, 33.0]      45\n",
      "(33.0, 43.0]      41\n",
      "(43.0, 68.0]      42\n",
      "(68.0, 466.0]     42\n",
      "Name: MIN_bin, dtype: int64\n"
     ]
    }
   ],
   "source": [
    "# Use qcut to create 10 quantile bins of the 'MIN' column\n",
    "lebron_merged_df['MIN_bin'], bin_edges = pd.qcut(lebron_merged_df['MIN'], q=10, retbins=True, duplicates='drop')\n",
    "\n",
    "# Print bin edges to see thresholds\n",
    "print(\"MIN bin edges (quantiles):\")\n",
    "print(bin_edges)\n",
    "\n",
    "# Optionally, check how many players fall into each bin\n",
    "print(\"\\nCounts per bin:\")\n",
    "print(lebron_merged_df['MIN_bin'].value_counts(sort=False))"
   ]
  },
  {
   "cell_type": "code",
   "execution_count": 45,
   "id": "bd5c1f0e",
   "metadata": {},
   "outputs": [
    {
     "name": "stdout",
     "output_type": "stream",
     "text": [
      "MIN bin edges (quantiles):\n",
      "[ 11.   13.   14.2  16.   19.   23.   28.   34.7  46.8  76.6 412. ]\n",
      "\n",
      "Counts per bin:\n",
      "(10.999, 13.0]    38\n",
      "(13.0, 14.2]      19\n",
      "(14.2, 16.0]      29\n",
      "(16.0, 19.0]      37\n",
      "(19.0, 23.0]      30\n",
      "(23.0, 28.0]      19\n",
      "(28.0, 34.7]      25\n",
      "(34.7, 46.8]      28\n",
      "(46.8, 76.6]      28\n",
      "(76.6, 412.0]     29\n",
      "Name: MIN_bin, dtype: int64\n"
     ]
    }
   ],
   "source": [
    "# Use qcut to create 10 quantile bins of the 'MIN' column\n",
    "luka_merged_df['MIN_bin'], bin_edges = pd.qcut(luka_merged_df['MIN'], q=10, retbins=True, duplicates='drop')\n",
    "\n",
    "# Print bin edges to see thresholds\n",
    "print(\"MIN bin edges (quantiles):\")\n",
    "print(bin_edges)\n",
    "\n",
    "# Optionally, check how many players fall into each bin\n",
    "print(\"\\nCounts per bin:\")\n",
    "print(luka_merged_df['MIN_bin'].value_counts(sort=False))"
   ]
  },
  {
   "cell_type": "markdown",
   "id": "a0009b56",
   "metadata": {},
   "source": [
    "After looking at the quantiles in both LeBron and Luka datasets, cutting out lineups under 16 minutes seemed reasonable. This step isn't completely necessary because we are using weighted least squares as our regression tactic later but it is an extra safeguard to remove the small sample noise."
   ]
  },
  {
   "cell_type": "code",
   "execution_count": 51,
   "id": "cb33124a",
   "metadata": {},
   "outputs": [],
   "source": [
    "lebron_merged_df = lebron_merged_df[lebron_merged_df['MIN'] > 16]\n",
    "luka_merged_df = luka_merged_df[luka_merged_df['MIN'] > 16]"
   ]
  },
  {
   "cell_type": "code",
   "execution_count": 52,
   "id": "0370f106",
   "metadata": {},
   "outputs": [],
   "source": [
    "lebron_merged_df.to_csv('../outputs/lebron_teammate_playtypes_percentiles_minutes_limit.csv', index=False)\n",
    "luka_merged_df.to_csv('../outputs/luka_teammate_playtypes_percentilesminutes_limit.csv', index=False)"
   ]
  },
  {
   "cell_type": "code",
   "execution_count": 2,
   "id": "467058be",
   "metadata": {},
   "outputs": [],
   "source": [
    "lebron_merged_df = pd.read_csv('../outputs/lebron_teammate_playtypes_percentiles_minutes_limit.csv')\n",
    "luka_merged_df = pd.read_csv('../outputs/luka_teammate_playtypes_percentilesminutes_limit.csv')"
   ]
  }
 ],
 "metadata": {
  "kernelspec": {
   "display_name": "Python 3 (ipykernel)",
   "language": "python",
   "name": "python3"
  },
  "language_info": {
   "codemirror_mode": {
    "name": "ipython",
    "version": 3
   },
   "file_extension": ".py",
   "mimetype": "text/x-python",
   "name": "python",
   "nbconvert_exporter": "python",
   "pygments_lexer": "ipython3",
   "version": "3.8.16"
  }
 },
 "nbformat": 4,
 "nbformat_minor": 5
}
